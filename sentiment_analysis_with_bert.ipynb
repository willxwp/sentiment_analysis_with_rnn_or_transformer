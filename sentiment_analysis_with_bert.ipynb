{
 "cells": [
  {
   "cell_type": "markdown",
   "id": "e63f76a2",
   "metadata": {},
   "source": [
    "This project aims to perform a sentiment analysis on the IMDB movie reviews dataset using a pre-trained BERT model. The goal is to classify the reviews as positive or negative based on their content, and demonstrate how to fine-tune a BERT model for this task.\n"
   ]
  },
  {
   "cell_type": "code",
   "execution_count": 1,
   "id": "d6db576a",
   "metadata": {},
   "outputs": [
    {
     "name": "stdout",
     "output_type": "stream",
     "text": [
      "<class 'pandas.core.frame.DataFrame'>\n",
      "Index: 30000 entries, 8666 to 12357\n",
      "Data columns (total 2 columns):\n",
      " #   Column     Non-Null Count  Dtype \n",
      "---  ------     --------------  ----- \n",
      " 0   review     30000 non-null  object\n",
      " 1   sentiment  30000 non-null  int64 \n",
      "dtypes: int64(1), object(1)\n",
      "memory usage: 703.1+ KB\n"
     ]
    }
   ],
   "source": [
    "# 1. Load and split the dataset\n",
    "\n",
    "import pandas as pd\n",
    "from sklearn.model_selection import train_test_split\n",
    "\n",
    "\n",
    "file_path = \"movie_data.csv\"\n",
    "df: pd.DataFrame = pd.read_csv(file_path)\n",
    "train_data, test_data = train_test_split(df, test_size=0.3, \n",
    "                                         random_state=42, stratify=df['sentiment'])\n",
    "train_data, val_data = train_test_split(train_data, test_size=5000,\n",
    "                                         random_state=42, stratify=train_data['sentiment'])\n",
    "train_data.info()"
   ]
  },
  {
   "cell_type": "code",
   "execution_count": 2,
   "id": "248e2315",
   "metadata": {},
   "outputs": [
    {
     "name": "stdout",
     "output_type": "stream",
     "text": [
      "Number of training samples: 30000\n"
     ]
    }
   ],
   "source": [
    "# separate the raw data into text and label data, as we will need to tokenize the text data\n",
    "\n",
    "train_texts: list[str] = train_data['review'].tolist()\n",
    "train_labels: list[int] = train_data['sentiment'].tolist()\n",
    "val_texts: list[str] = val_data['review'].tolist()\n",
    "val_labels: list[int] = val_data['sentiment'].tolist()\n",
    "test_texts: list[str] = test_data['review'].tolist()\n",
    "test_labels: list[int] = test_data['sentiment'].tolist()\n",
    "print(f\"Number of training samples: {len(train_texts)}\")"
   ]
  },
  {
   "cell_type": "code",
   "execution_count": 3,
   "id": "64b915da",
   "metadata": {},
   "outputs": [],
   "source": [
    "# 2. Pick a suitable pre-trained model and the corresponding tokenizer. \n",
    "# Choose the distilbert-base-uncased model due to limited computational resources.\n",
    "\n",
    "from transformers import DistilBertTokenizer\n",
    "\n",
    "tokenizer = DistilBertTokenizer.from_pretrained(\"distilbert-base-uncased\",\n",
    "                                                local_files_only=True)"
   ]
  },
  {
   "cell_type": "code",
   "execution_count": 4,
   "id": "8c6cace9",
   "metadata": {},
   "outputs": [],
   "source": [
    "# 3. Tokenize the input text from the train, validation and test datasets\n",
    "train_encodings = tokenizer(\n",
    "    train_texts, \n",
    "    truncation=True, # resulting encoding object can hold up to 512 tokens. If the original text is longer, it will be truncated.\n",
    "    padding=True, \n",
    "    return_tensors='pt') # return PyTorch tensors\n",
    "\n",
    "val_encodings = tokenizer(\n",
    "    val_texts,\n",
    "    truncation=True, \n",
    "    padding=True, \n",
    "    return_tensors='pt')\n",
    "\n",
    "test_encodings = tokenizer(\n",
    "    test_texts,\n",
    "    truncation=True, \n",
    "    padding=True,\n",
    "    return_tensors='pt')"
   ]
  },
  {
   "cell_type": "code",
   "execution_count": 5,
   "id": "1777388d",
   "metadata": {},
   "outputs": [
    {
     "data": {
      "text/plain": [
       "dict_keys(['input_ids', 'attention_mask'])"
      ]
     },
     "execution_count": 5,
     "metadata": {},
     "output_type": "execute_result"
    }
   ],
   "source": [
    "train_encodings.keys()"
   ]
  },
  {
   "cell_type": "code",
   "execution_count": 6,
   "id": "9da4f728",
   "metadata": {},
   "outputs": [
    {
     "name": "stdout",
     "output_type": "stream",
     "text": [
      "torch.Size([30000, 512])\n"
     ]
    },
    {
     "data": {
      "text/plain": [
       "tensor([  101,  1037,  6919,  2143,  3805,  1997,  2049,  2051,  1010,  1026,\n",
       "         7987,  1013,  1028,  1026,  7987,  1013,  1028,  1045,  2228,  2061,\n",
       "         1010,  1999,  1996, 12021,  1005,  1055,  2009,  2001,  2035,  2055,\n",
       "         3045,  1010, 22040,  2003,  2204,  1029,  3342,  2008,  2028,  1029,\n",
       "         1045,  2031,  2464,  2023,  2143,  2062,  2008,  2322,  2335,  1010,\n",
       "         2000,  2033,  2023,  2003,  1037,  2613,  5532,  2479,  2143,  1010,\n",
       "         1045,  2562,  3666,  2138,  2045,  2003,  2467,  2242,  2062,  2000,\n",
       "         4553,  2055,  2122, 25077,  3494,  2008,  1045,  2074,  2293,  1010,\n",
       "         8201,  9092,  5149,  1010,  1998, 20368, 13675, 10698,  2078,  1010,\n",
       "         2024,  3432,  6919,  1010,  2036, 12218,  1040,  1005, 12262,  1010,\n",
       "        17935,  7346,  2272,  1999,  2012,  1037,  2485,  2117,  1010,  2123,\n",
       "         1005,  1056,  2131,  2033,  3308,  2045,  2024,  2116,  2062,  2307,\n",
       "         2836,  1005,  1055,  1999,  2023,  2143,  1010,  1998,  2009,  2003,\n",
       "         2036,  1996,  2126,  2009,  2003,  2517,  2008,  2081,  2009,  2005,\n",
       "         2033,  1010,  1998,  1045,  3246,  2017,  1010,  1037,  2143,  2008,\n",
       "         2017,  2097,  2215,  2000,  2156,  2058,  1998,  2058,  1010,  1045,\n",
       "         2228,  2694,  3065,  2066,  1000,  2167,  2368,  7524,  1000,  1010,\n",
       "         1998,  2085,  1000,  4656,  1000, 12533,  1037,  2843,  2000,  2023,\n",
       "         2143,  1012,  2021,  3342,  2009,  2003,  2025,  1037,  3419,  8592,\n",
       "         2143,  1012,   102,     0,     0,     0,     0,     0,     0,     0,\n",
       "            0,     0,     0,     0,     0,     0,     0,     0,     0,     0,\n",
       "            0,     0,     0,     0,     0,     0,     0,     0,     0,     0,\n",
       "            0,     0,     0,     0,     0,     0,     0,     0,     0,     0,\n",
       "            0,     0,     0,     0,     0,     0,     0,     0,     0,     0,\n",
       "            0,     0,     0,     0,     0,     0,     0,     0,     0,     0,\n",
       "            0,     0,     0,     0,     0,     0,     0,     0,     0,     0,\n",
       "            0,     0,     0,     0,     0,     0,     0,     0,     0,     0,\n",
       "            0,     0,     0,     0,     0,     0,     0,     0,     0,     0,\n",
       "            0,     0,     0,     0,     0,     0,     0,     0,     0,     0,\n",
       "            0,     0,     0,     0,     0,     0,     0,     0,     0,     0,\n",
       "            0,     0,     0,     0,     0,     0,     0,     0,     0,     0,\n",
       "            0,     0,     0,     0,     0,     0,     0,     0,     0,     0,\n",
       "            0,     0,     0,     0,     0,     0,     0,     0,     0,     0,\n",
       "            0,     0,     0,     0,     0,     0,     0,     0,     0,     0,\n",
       "            0,     0,     0,     0,     0,     0,     0,     0,     0,     0,\n",
       "            0,     0,     0,     0,     0,     0,     0,     0,     0,     0,\n",
       "            0,     0,     0,     0,     0,     0,     0,     0,     0,     0,\n",
       "            0,     0,     0,     0,     0,     0,     0,     0,     0,     0,\n",
       "            0,     0,     0,     0,     0,     0,     0,     0,     0,     0,\n",
       "            0,     0,     0,     0,     0,     0,     0,     0,     0,     0,\n",
       "            0,     0,     0,     0,     0,     0,     0,     0,     0,     0,\n",
       "            0,     0,     0,     0,     0,     0,     0,     0,     0,     0,\n",
       "            0,     0,     0,     0,     0,     0,     0,     0,     0,     0,\n",
       "            0,     0,     0,     0,     0,     0,     0,     0,     0,     0,\n",
       "            0,     0,     0,     0,     0,     0,     0,     0,     0,     0,\n",
       "            0,     0,     0,     0,     0,     0,     0,     0,     0,     0,\n",
       "            0,     0,     0,     0,     0,     0,     0,     0,     0,     0,\n",
       "            0,     0,     0,     0,     0,     0,     0,     0,     0,     0,\n",
       "            0,     0,     0,     0,     0,     0,     0,     0,     0,     0,\n",
       "            0,     0,     0,     0,     0,     0,     0,     0,     0,     0,\n",
       "            0,     0,     0,     0,     0,     0,     0,     0,     0,     0,\n",
       "            0,     0])"
      ]
     },
     "execution_count": 6,
     "metadata": {},
     "output_type": "execute_result"
    }
   ],
   "source": [
    "print(train_encodings['input_ids'].shape)\n",
    "train_encodings['input_ids'][0]"
   ]
  },
  {
   "cell_type": "code",
   "execution_count": 7,
   "id": "42470eca",
   "metadata": {},
   "outputs": [
    {
     "name": "stdout",
     "output_type": "stream",
     "text": [
      "torch.Size([30000, 512])\n",
      "tensor([1, 1, 1, 1, 1, 1, 1, 1, 1, 1, 1, 1, 1, 1, 1, 1, 1, 1, 1, 1, 1, 1, 1, 1,\n",
      "        1, 1, 1, 1, 1, 1, 1, 1, 1, 1, 1, 1, 1, 1, 1, 1, 1, 1, 1, 1, 1, 1, 1, 1,\n",
      "        1, 1, 1, 1, 1, 1, 1, 1, 1, 1, 1, 1, 1, 1, 1, 1, 1, 1, 1, 1, 1, 1, 1, 1,\n",
      "        1, 1, 1, 1, 1, 1, 1, 1, 1, 1, 1, 1, 1, 1, 1, 1, 1, 1, 1, 1, 1, 1, 1, 1,\n",
      "        1, 1, 1, 1, 1, 1, 1, 1, 1, 1, 1, 1, 1, 1, 1, 1, 1, 1, 1, 1, 1, 1, 1, 1,\n",
      "        1, 1, 1, 1, 1, 1, 1, 1, 1, 1, 1, 1, 1, 1, 1, 1, 1, 1, 1, 1, 1, 1, 1, 1,\n",
      "        1, 1, 1, 1, 1, 1, 1, 1, 1, 1, 1, 1, 1, 1, 1, 1, 1, 1, 1, 1, 1, 1, 1, 1,\n",
      "        1, 1, 1, 1, 1, 1, 1, 1, 1, 1, 1, 1, 1, 1, 1, 1, 1, 1, 1, 1, 1, 1, 1, 1,\n",
      "        1, 0, 0, 0, 0, 0, 0, 0, 0, 0, 0, 0, 0, 0, 0, 0, 0, 0, 0, 0, 0, 0, 0, 0,\n",
      "        0, 0, 0, 0, 0, 0, 0, 0, 0, 0, 0, 0, 0, 0, 0, 0, 0, 0, 0, 0, 0, 0, 0, 0,\n",
      "        0, 0, 0, 0, 0, 0, 0, 0, 0, 0, 0, 0, 0, 0, 0, 0, 0, 0, 0, 0, 0, 0, 0, 0,\n",
      "        0, 0, 0, 0, 0, 0, 0, 0, 0, 0, 0, 0, 0, 0, 0, 0, 0, 0, 0, 0, 0, 0, 0, 0,\n",
      "        0, 0, 0, 0, 0, 0, 0, 0, 0, 0, 0, 0, 0, 0, 0, 0, 0, 0, 0, 0, 0, 0, 0, 0,\n",
      "        0, 0, 0, 0, 0, 0, 0, 0, 0, 0, 0, 0, 0, 0, 0, 0, 0, 0, 0, 0, 0, 0, 0, 0,\n",
      "        0, 0, 0, 0, 0, 0, 0, 0, 0, 0, 0, 0, 0, 0, 0, 0, 0, 0, 0, 0, 0, 0, 0, 0,\n",
      "        0, 0, 0, 0, 0, 0, 0, 0, 0, 0, 0, 0, 0, 0, 0, 0, 0, 0, 0, 0, 0, 0, 0, 0,\n",
      "        0, 0, 0, 0, 0, 0, 0, 0, 0, 0, 0, 0, 0, 0, 0, 0, 0, 0, 0, 0, 0, 0, 0, 0,\n",
      "        0, 0, 0, 0, 0, 0, 0, 0, 0, 0, 0, 0, 0, 0, 0, 0, 0, 0, 0, 0, 0, 0, 0, 0,\n",
      "        0, 0, 0, 0, 0, 0, 0, 0, 0, 0, 0, 0, 0, 0, 0, 0, 0, 0, 0, 0, 0, 0, 0, 0,\n",
      "        0, 0, 0, 0, 0, 0, 0, 0, 0, 0, 0, 0, 0, 0, 0, 0, 0, 0, 0, 0, 0, 0, 0, 0,\n",
      "        0, 0, 0, 0, 0, 0, 0, 0, 0, 0, 0, 0, 0, 0, 0, 0, 0, 0, 0, 0, 0, 0, 0, 0,\n",
      "        0, 0, 0, 0, 0, 0, 0, 0])\n"
     ]
    }
   ],
   "source": [
    "print(train_encodings['attention_mask'].shape)\n",
    "print(train_encodings['attention_mask'][0])"
   ]
  },
  {
   "cell_type": "code",
   "execution_count": 8,
   "id": "31ec3255",
   "metadata": {},
   "outputs": [
    {
     "data": {
      "text/plain": [
       "dict_items([('input_ids', tensor([[ 101, 1037, 6919,  ...,    0,    0,    0],\n",
       "        [ 101, 1045, 2387,  ...,    0,    0,    0],\n",
       "        [ 101, 2043, 1005,  ...,    0,    0,    0],\n",
       "        ...,\n",
       "        [ 101, 1045, 1005,  ...,    0,    0,    0],\n",
       "        [ 101, 2011, 3411,  ...,    0,    0,    0],\n",
       "        [ 101, 3294, 5993,  ...,    0,    0,    0]])), ('attention_mask', tensor([[1, 1, 1,  ..., 0, 0, 0],\n",
       "        [1, 1, 1,  ..., 0, 0, 0],\n",
       "        [1, 1, 1,  ..., 0, 0, 0],\n",
       "        ...,\n",
       "        [1, 1, 1,  ..., 0, 0, 0],\n",
       "        [1, 1, 1,  ..., 0, 0, 0],\n",
       "        [1, 1, 1,  ..., 0, 0, 0]]))])"
      ]
     },
     "execution_count": 8,
     "metadata": {},
     "output_type": "execute_result"
    }
   ],
   "source": [
    "train_encodings.items()"
   ]
  },
  {
   "cell_type": "code",
   "execution_count": 9,
   "id": "a034d7b1",
   "metadata": {},
   "outputs": [],
   "source": [
    "# 4. Encapsulate all data fields, including the labels within a Dataset class:\n",
    "from torch.utils.data import Dataset\n",
    "import torch\n",
    "\n",
    "\n",
    "class MovieReviewDataset(Dataset):\n",
    "    def __init__(self, encodings: dict, labels: list[int]) -> None:\n",
    "        self.encodings: dict = encodings\n",
    "        self.labels: list[int] = labels\n",
    "\n",
    "    def __len__(self) -> int:\n",
    "        return len(self.labels)\n",
    "\n",
    "    def __getitem__(self, idx) -> dict[str, torch.Tensor]:\n",
    "        \"\"\"Put all the data fields into a dictionary and return it.\"\"\"\n",
    "\n",
    "        item: dict[str, torch.Tensor] = {key: val[idx] for key, val in self.encodings.items()}\n",
    "        # Convert the positive label to [0., 1.] and the negative label to [1., 0.]. \n",
    "        # because the BERT model expects the labels to be in a one-hot encoded format.\n",
    "        item['labels'] = torch.tensor([0., 1.]) if self.labels[idx] == 1 else torch.tensor([1., 0.])\n",
    "\n",
    "        return item\n",
    "\n",
    "\n",
    "# Now, create the training, validation and test datasets using the MovieReviewDataset class:\n",
    "train_dataset = MovieReviewDataset(train_encodings, train_labels)\n",
    "val_dataset = MovieReviewDataset(val_encodings, val_labels)\n",
    "test_dataset = MovieReviewDataset(test_encodings, test_labels)"
   ]
  },
  {
   "cell_type": "code",
   "execution_count": 10,
   "id": "f603ff97",
   "metadata": {},
   "outputs": [],
   "source": [
    "# 5. Create a DataLoader for the training dataset. The DataLoader will take care of batching the data and shuffling it.\n",
    "from torch.utils.data import DataLoader\n",
    "\n",
    "batch_size = 32\n",
    "train_dataloader = DataLoader(train_dataset, batch_size=batch_size, shuffle=True)\n",
    "val_dataloader = DataLoader(val_dataset, batch_size=batch_size, shuffle=False)  \n",
    "test_dataloader = DataLoader(test_dataset, batch_size=batch_size, shuffle=False)"
   ]
  },
  {
   "cell_type": "code",
   "execution_count": 11,
   "id": "8f29be8d",
   "metadata": {},
   "outputs": [
    {
     "name": "stderr",
     "output_type": "stream",
     "text": [
      "Some weights of DistilBertForSequenceClassification were not initialized from the model checkpoint at distilbert-base-uncased and are newly initialized: ['classifier.bias', 'classifier.weight', 'pre_classifier.bias', 'pre_classifier.weight']\n",
      "You should probably TRAIN this model on a down-stream task to be able to use it for predictions and inference.\n"
     ]
    }
   ],
   "source": [
    "# 6. After completing the data preparation, tokenization and custom DataSet and DataLoader, \n",
    "# the next step is loading the pre-trained model and fine-tuning it with the datasets just prepared.\n",
    "\n",
    "from transformers import DistilBertForSequenceClassification\n",
    "from torch.optim import AdamW\n",
    "\n",
    "device= torch.device('cuda') if torch.cuda.is_available() else torch.device('cpu')\n",
    "model = DistilBertForSequenceClassification.from_pretrained(\n",
    "    \"distilbert-base-uncased\",\n",
    "    local_files_only=True).to(device)\n",
    "\n",
    "# Define the optimizer\n",
    "optimizer = AdamW(model.parameters(), \n",
    "                  lr=5e-5,  # learning rate of 5e-5 is a good starting point for fine-tuning BERT models\n",
    "                  weight_decay=0.01)  # weight decay of 0.01 is a common choice for regularization"
   ]
  },
  {
   "cell_type": "markdown",
   "id": "8ef3a543",
   "metadata": {},
   "source": [
    "#### Using the Trainer API to train Transformer models\n"
   ]
  },
  {
   "cell_type": "code",
   "execution_count": null,
   "id": "05430a72",
   "metadata": {},
   "outputs": [],
   "source": [
    "# 7. Use the Trainer API from Hugging Face Transformers to train the model.\n",
    "# First, prepare the necessary configurations and initialize a Trainer object:\n",
    "\n",
    "from transformers import Trainer, TrainingArguments, EarlyStoppingCallback\n",
    "import evaluate\n",
    "import numpy as np\n",
    "\n",
    "torch.manual_seed(42)  # set the random seed for reproducibility\n",
    "\n",
    "training_args = TrainingArguments(\n",
    "    output_dir='./results',  # output directory for model predictions and checkpoints\n",
    "    num_train_epochs=3,  \n",
    "    per_device_train_batch_size=batch_size,  # batch size for training\n",
    "    per_device_eval_batch_size=batch_size,  # batch size for evaluation\n",
    "    warmup_steps=50,  # number of warmup steps for learning rate scheduler\n",
    "    logging_dir='./logs', \n",
    "    logging_steps=50,  # log every 50 steps\n",
    "    eval_strategy=\"steps\", \n",
    "    eval_steps=50,  # evaluate every 50 steps\n",
    "    metric_for_best_model=\"accuracy\",  # use accuracy to evaluate the model\n",
    "    greater_is_better=True,  \n",
    "    save_strategy=\"steps\", \n",
    "    save_steps=50,  # save every 50 steps\n",
    "    load_best_model_at_end=True,  # load the best model at the end of training\n",
    ")\n",
    "\n",
    "# Define the compute_metrics function to compute accuracy\n",
    "def compute_metrics(eval_pred) -> dict[str, float]:\n",
    "    \"\"\"Compute accuracy for evaluating the model.\"\"\"\n",
    "\t\n",
    "    # Unpack the logits and labels from the eval_pred tuple\n",
    "    logits, labels = eval_pred\n",
    "    preds = np.argmax(logits, axis=-1)  # note: logits is np.ndarray of (num_samples, num_classes) \n",
    "    true_labels = np.argmax(labels, axis=-1)  # convert the true class labels to 1d array.\n",
    "\t\n",
    "    metric = evaluate.load(\"accuracy\")\n",
    "    accu: dict = metric.compute(predictions=preds, references=true_labels)  \n",
    "\n",
    "    return accu\n",
    "\n",
    "\n",
    "# Initialize the Trainer object\n",
    "trainer = Trainer(\n",
    "    model=model,  \n",
    "    args=training_args,  # training arguments, defined above\n",
    "    train_dataset=train_dataset,  \n",
    "    eval_dataset=val_dataset,  \n",
    "    optimizers=(optimizer, None),  # optimizer and scheduler\n",
    "    compute_metrics=compute_metrics,  # compute accuracy\n",
    "    callbacks=[EarlyStoppingCallback(early_stopping_patience=5)],  # add early stopping callback\n",
    ")"
   ]
  },
  {
   "cell_type": "code",
   "execution_count": 13,
   "id": "7a9e3a05",
   "metadata": {},
   "outputs": [
    {
     "name": "stdout",
     "output_type": "stream",
     "text": [
      "Free GPU memory: 6.65 GB / 8.00 GB\n"
     ]
    },
    {
     "data": {
      "text/html": [
       "\n",
       "    <div>\n",
       "      \n",
       "      <progress value='1750' max='2814' style='width:300px; height:20px; vertical-align: middle;'></progress>\n",
       "      [1750/2814 51:16 < 31:12, 0.57 it/s, Epoch 1/3]\n",
       "    </div>\n",
       "    <table border=\"1\" class=\"dataframe\">\n",
       "  <thead>\n",
       " <tr style=\"text-align: left;\">\n",
       "      <th>Step</th>\n",
       "      <th>Training Loss</th>\n",
       "      <th>Validation Loss</th>\n",
       "      <th>Accuracy</th>\n",
       "    </tr>\n",
       "  </thead>\n",
       "  <tbody>\n",
       "    <tr>\n",
       "      <td>50</td>\n",
       "      <td>0.615100</td>\n",
       "      <td>0.367332</td>\n",
       "      <td>0.866200</td>\n",
       "    </tr>\n",
       "    <tr>\n",
       "      <td>100</td>\n",
       "      <td>0.340400</td>\n",
       "      <td>0.288157</td>\n",
       "      <td>0.887400</td>\n",
       "    </tr>\n",
       "    <tr>\n",
       "      <td>150</td>\n",
       "      <td>0.283600</td>\n",
       "      <td>0.271197</td>\n",
       "      <td>0.890000</td>\n",
       "    </tr>\n",
       "    <tr>\n",
       "      <td>200</td>\n",
       "      <td>0.275200</td>\n",
       "      <td>0.257851</td>\n",
       "      <td>0.899600</td>\n",
       "    </tr>\n",
       "    <tr>\n",
       "      <td>250</td>\n",
       "      <td>0.280200</td>\n",
       "      <td>0.273859</td>\n",
       "      <td>0.891400</td>\n",
       "    </tr>\n",
       "    <tr>\n",
       "      <td>300</td>\n",
       "      <td>0.278000</td>\n",
       "      <td>0.238523</td>\n",
       "      <td>0.906200</td>\n",
       "    </tr>\n",
       "    <tr>\n",
       "      <td>350</td>\n",
       "      <td>0.254800</td>\n",
       "      <td>0.263075</td>\n",
       "      <td>0.902000</td>\n",
       "    </tr>\n",
       "    <tr>\n",
       "      <td>400</td>\n",
       "      <td>0.250900</td>\n",
       "      <td>0.231817</td>\n",
       "      <td>0.911200</td>\n",
       "    </tr>\n",
       "    <tr>\n",
       "      <td>450</td>\n",
       "      <td>0.262300</td>\n",
       "      <td>0.226824</td>\n",
       "      <td>0.908800</td>\n",
       "    </tr>\n",
       "    <tr>\n",
       "      <td>500</td>\n",
       "      <td>0.228600</td>\n",
       "      <td>0.217945</td>\n",
       "      <td>0.917800</td>\n",
       "    </tr>\n",
       "    <tr>\n",
       "      <td>550</td>\n",
       "      <td>0.247000</td>\n",
       "      <td>0.276186</td>\n",
       "      <td>0.891000</td>\n",
       "    </tr>\n",
       "    <tr>\n",
       "      <td>600</td>\n",
       "      <td>0.241600</td>\n",
       "      <td>0.287952</td>\n",
       "      <td>0.891200</td>\n",
       "    </tr>\n",
       "    <tr>\n",
       "      <td>650</td>\n",
       "      <td>0.213000</td>\n",
       "      <td>0.206169</td>\n",
       "      <td>0.923000</td>\n",
       "    </tr>\n",
       "    <tr>\n",
       "      <td>700</td>\n",
       "      <td>0.213700</td>\n",
       "      <td>0.246102</td>\n",
       "      <td>0.903000</td>\n",
       "    </tr>\n",
       "    <tr>\n",
       "      <td>750</td>\n",
       "      <td>0.207100</td>\n",
       "      <td>0.198391</td>\n",
       "      <td>0.925000</td>\n",
       "    </tr>\n",
       "    <tr>\n",
       "      <td>800</td>\n",
       "      <td>0.232300</td>\n",
       "      <td>0.200158</td>\n",
       "      <td>0.926600</td>\n",
       "    </tr>\n",
       "    <tr>\n",
       "      <td>850</td>\n",
       "      <td>0.208700</td>\n",
       "      <td>0.196406</td>\n",
       "      <td>0.925200</td>\n",
       "    </tr>\n",
       "    <tr>\n",
       "      <td>900</td>\n",
       "      <td>0.211800</td>\n",
       "      <td>0.192537</td>\n",
       "      <td>0.924800</td>\n",
       "    </tr>\n",
       "    <tr>\n",
       "      <td>950</td>\n",
       "      <td>0.172200</td>\n",
       "      <td>0.209413</td>\n",
       "      <td>0.921800</td>\n",
       "    </tr>\n",
       "    <tr>\n",
       "      <td>1000</td>\n",
       "      <td>0.133000</td>\n",
       "      <td>0.234620</td>\n",
       "      <td>0.915600</td>\n",
       "    </tr>\n",
       "    <tr>\n",
       "      <td>1050</td>\n",
       "      <td>0.124700</td>\n",
       "      <td>0.224500</td>\n",
       "      <td>0.930200</td>\n",
       "    </tr>\n",
       "    <tr>\n",
       "      <td>1100</td>\n",
       "      <td>0.128800</td>\n",
       "      <td>0.207668</td>\n",
       "      <td>0.928600</td>\n",
       "    </tr>\n",
       "    <tr>\n",
       "      <td>1150</td>\n",
       "      <td>0.112500</td>\n",
       "      <td>0.230878</td>\n",
       "      <td>0.927000</td>\n",
       "    </tr>\n",
       "    <tr>\n",
       "      <td>1200</td>\n",
       "      <td>0.125200</td>\n",
       "      <td>0.219573</td>\n",
       "      <td>0.926800</td>\n",
       "    </tr>\n",
       "    <tr>\n",
       "      <td>1250</td>\n",
       "      <td>0.121400</td>\n",
       "      <td>0.228519</td>\n",
       "      <td>0.927000</td>\n",
       "    </tr>\n",
       "    <tr>\n",
       "      <td>1300</td>\n",
       "      <td>0.118400</td>\n",
       "      <td>0.200262</td>\n",
       "      <td>0.931400</td>\n",
       "    </tr>\n",
       "    <tr>\n",
       "      <td>1350</td>\n",
       "      <td>0.118100</td>\n",
       "      <td>0.260006</td>\n",
       "      <td>0.917000</td>\n",
       "    </tr>\n",
       "    <tr>\n",
       "      <td>1400</td>\n",
       "      <td>0.146300</td>\n",
       "      <td>0.217201</td>\n",
       "      <td>0.924600</td>\n",
       "    </tr>\n",
       "    <tr>\n",
       "      <td>1450</td>\n",
       "      <td>0.101900</td>\n",
       "      <td>0.201325</td>\n",
       "      <td>0.934000</td>\n",
       "    </tr>\n",
       "    <tr>\n",
       "      <td>1500</td>\n",
       "      <td>0.126900</td>\n",
       "      <td>0.197865</td>\n",
       "      <td>0.936000</td>\n",
       "    </tr>\n",
       "    <tr>\n",
       "      <td>1550</td>\n",
       "      <td>0.148500</td>\n",
       "      <td>0.188167</td>\n",
       "      <td>0.931600</td>\n",
       "    </tr>\n",
       "    <tr>\n",
       "      <td>1600</td>\n",
       "      <td>0.107000</td>\n",
       "      <td>0.205441</td>\n",
       "      <td>0.932200</td>\n",
       "    </tr>\n",
       "    <tr>\n",
       "      <td>1650</td>\n",
       "      <td>0.102500</td>\n",
       "      <td>0.216679</td>\n",
       "      <td>0.935000</td>\n",
       "    </tr>\n",
       "    <tr>\n",
       "      <td>1700</td>\n",
       "      <td>0.121300</td>\n",
       "      <td>0.206594</td>\n",
       "      <td>0.932400</td>\n",
       "    </tr>\n",
       "    <tr>\n",
       "      <td>1750</td>\n",
       "      <td>0.133100</td>\n",
       "      <td>0.202544</td>\n",
       "      <td>0.932800</td>\n",
       "    </tr>\n",
       "  </tbody>\n",
       "</table><p>"
      ],
      "text/plain": [
       "<IPython.core.display.HTML object>"
      ]
     },
     "metadata": {},
     "output_type": "display_data"
    },
    {
     "data": {
      "text/plain": [
       "TrainOutput(global_step=1750, training_loss=0.19960899571010043, metrics={'train_runtime': 3077.9649, 'train_samples_per_second': 29.24, 'train_steps_per_second': 0.914, 'total_flos': 7416054846357504.0, 'train_loss': 0.19960899571010043, 'epoch': 1.8656716417910446})"
      ]
     },
     "execution_count": 13,
     "metadata": {},
     "output_type": "execute_result"
    }
   ],
   "source": [
    "# 8. Train the model\n",
    "# Check GPU memory before training\n",
    "free_mem, total_mem = torch.cuda.mem_get_info(device=device)\n",
    "print(f\"Free GPU memory: {free_mem/1024**3:.2f} GB / {total_mem/1024**3:.2f} GB\")\n",
    "\n",
    "trainer.train()"
   ]
  },
  {
   "cell_type": "code",
   "execution_count": null,
   "id": "1d8d65f8",
   "metadata": {},
   "outputs": [
    {
     "data": {
      "text/html": [
       "\n",
       "    <div>\n",
       "      \n",
       "      <progress value='1095' max='157' style='width:300px; height:20px; vertical-align: middle;'></progress>\n",
       "      [157/157 06:48]\n",
       "    </div>\n",
       "    "
      ],
      "text/plain": [
       "<IPython.core.display.HTML object>"
      ]
     },
     "metadata": {},
     "output_type": "display_data"
    },
    {
     "data": {
      "text/plain": [
       "{'eval_loss': 0.19786538183689117,\n",
       " 'eval_accuracy': 0.936,\n",
       " 'eval_runtime': 44.0313,\n",
       " 'eval_samples_per_second': 113.556,\n",
       " 'eval_steps_per_second': 3.566,\n",
       " 'epoch': 1.8656716417910446}"
      ]
     },
     "execution_count": 14,
     "metadata": {},
     "output_type": "execute_result"
    }
   ],
   "source": [
    "# 9. Evaluate the model on the validation set to check for the best model\n",
    "trainer.evaluate(val_dataset)"
   ]
  },
  {
   "cell_type": "code",
   "execution_count": 16,
   "id": "c016ccc8",
   "metadata": {},
   "outputs": [
    {
     "data": {
      "text/plain": [
       "{'eval_loss': 0.20091913640499115,\n",
       " 'eval_accuracy': 0.9325333333333333,\n",
       " 'eval_runtime': 128.775,\n",
       " 'eval_samples_per_second': 116.482,\n",
       " 'eval_steps_per_second': 3.642,\n",
       " 'epoch': 1.8656716417910446}"
      ]
     },
     "execution_count": 16,
     "metadata": {},
     "output_type": "execute_result"
    }
   ],
   "source": [
    "# 10. Evaluate the model on the test set\n",
    "trainer.evaluate(test_dataset)"
   ]
  },
  {
   "cell_type": "markdown",
   "id": "dbfa3973",
   "metadata": {},
   "source": [
    "<b>Best practice</b><br>\n",
    "<br>\n",
    "Here are some best practices for fine-tuning BERT:\n",
    "\n",
    "- <b>Data is king</b>: You should prioritize high-quality and well-labeled data.\n",
    "- <b>Start small</b>: You can begin with smaller pre-trained models like BERT-base or DistilBERT. They’re less demanding on your computational power compared to larger models like BERT-large.\n",
    "- <b>Automate hyperparameter tuning</b>: You may utilize automated hyperparameter tuning libraries (e.g., Hyperopt, Optuna) to search for optimal hyperparameters. This can save you time and let your computer do the heavy lifting.\n",
    "- <b>Implement early stopping</b>: You should monitor validation loss during training. If it stops getting better after a while, hit the brakes. This early stopping strategy can prevent unnecessary training iterations.\n"
   ]
  }
 ],
 "metadata": {
  "kernelspec": {
   "display_name": ".venv",
   "language": "python",
   "name": "python3"
  },
  "language_info": {
   "codemirror_mode": {
    "name": "ipython",
    "version": 3
   },
   "file_extension": ".py",
   "mimetype": "text/x-python",
   "name": "python",
   "nbconvert_exporter": "python",
   "pygments_lexer": "ipython3",
   "version": "3.12.7"
  }
 },
 "nbformat": 4,
 "nbformat_minor": 5
}
